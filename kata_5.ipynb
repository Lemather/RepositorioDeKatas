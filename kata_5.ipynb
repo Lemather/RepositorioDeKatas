{
 "cells": [
  {
   "cell_type": "code",
   "execution_count": 2,
   "metadata": {},
   "outputs": [
    {
     "name": "stdout",
     "output_type": "stream",
     "text": [
      "628949330\n",
      "390577533.93\n"
     ]
    }
   ],
   "source": [
    "planeta1 = 149597870\n",
    "planeta2 = 778547200\n",
    "dist_km = planeta2 - planeta1\n",
    "print(dist_km)\n",
    "\n",
    "dist_mi = dist_km * 0.621\n",
    "print(dist_mi)"
   ]
  },
  {
   "cell_type": "code",
   "execution_count": 4,
   "metadata": {},
   "outputs": [
    {
     "name": "stdout",
     "output_type": "stream",
     "text": [
      "1111011\n",
      "689937.831\n"
     ]
    }
   ],
   "source": [
    "planeta1 = input('Introduzca la distancia del sol al primer planeta en KM')\n",
    "planeta2 = input('Introduzca la distancia desde el sol al segundo planeta en KM')\n",
    "planeta1 = int(planeta1)\n",
    "planeta2 = int(planeta2)\n",
    "dist_km = planeta2 - planeta1\n",
    "print(dist_km)\n",
    "\n",
    "# Convertir de KM a Millas\n",
    "dist_mi = dist_km * 0.621\n",
    "print(abs(dist_mi))"
   ]
  }
 ],
 "metadata": {
  "interpreter": {
   "hash": "5e464044df699f84c82c6771a5363bd0887ed22cd104ff756e38bfb330f339ba"
  },
  "kernelspec": {
   "display_name": "Python 3.10.2 64-bit (windows store)",
   "language": "python",
   "name": "python3"
  },
  "language_info": {
   "codemirror_mode": {
    "name": "ipython",
    "version": 3
   },
   "file_extension": ".py",
   "mimetype": "text/x-python",
   "name": "python",
   "nbconvert_exporter": "python",
   "pygments_lexer": "ipython3",
   "version": "3.10.2"
  },
  "orig_nbformat": 4
 },
 "nbformat": 4,
 "nbformat_minor": 2
}
