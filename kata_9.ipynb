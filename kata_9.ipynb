{
 "cells": [
  {
   "cell_type": "code",
   "execution_count": 1,
   "metadata": {},
   "outputs": [
    {
     "name": "stdout",
     "output_type": "stream",
     "text": [
      "Informe de Combustible:\n",
      "    Promedio: 78.33333333333333%\n",
      "    Tanque 1: 80%\n",
      "    Tanque 2: 70%\n",
      "    Tanque 3: 85% \n",
      "    \n",
      "Informe de Combustible:\n",
      "    Promedio: 78.0%\n",
      "    Tanque 1: 88%\n",
      "    Tanque 2: 76%\n",
      "    Tanque 3: 70% \n",
      "    \n"
     ]
    }
   ],
   "source": [
    "def informe_combustible(tanque1, tanque2, tanque3):\n",
    "    prom = (tanque1 + tanque2 + tanque3) / 3\n",
    "    return f\"\"\"Informe de Combustible:\n",
    "    Promedio: {prom}%\n",
    "    Tanque 1: {tanque1}%\n",
    "    Tanque 2: {tanque2}%\n",
    "    Tanque 3: {tanque3}% \n",
    "    \"\"\"\n",
    "print(informe_combustible(80, 70, 85))\n",
    "\n",
    "def average(values):\n",
    "    total = sum(values)\n",
    "    n = len(values)\n",
    "    return total / n\n",
    "average([80, 85, 81])\n",
    "\n",
    "def informe_combustible(tanque1, tanque2, tanque3):\n",
    "    return f\"\"\"Informe de Combustible:\n",
    "    Promedio: {average([tanque1, tanque2, tanque3])}%\n",
    "    Tanque 1: {tanque1}%\n",
    "    Tanque 2: {tanque2}%\n",
    "    Tanque 3: {tanque3}% \n",
    "    \"\"\"\n",
    "print(informe_combustible(88, 76, 70))"
   ]
  },
  {
   "cell_type": "code",
   "execution_count": null,
   "metadata": {},
   "outputs": [],
   "source": [
    "def informe_mision(tiempo_prelanz, tiempo_vuelo, destino, tanque_externo, tanque_interno):\n",
    "    return f\"\"\"\n",
    "    Destino de Misión {destino}\n",
    "    Tiempo total de vuelo {tiempo_prelanz + tiempo_vuelo} minutos\n",
    "    Combustible restante {tanque_externo + tanque_interno} galones\n",
    "    \"\"\"\n",
    "print(informe_mision(14, 51, \"Luna\", 200000, 300000))\n",
    "\n",
    "def informe_mision(destino, *minutos, **reservas_comb):\n",
    "    return f\"\"\"\n",
    "    Destino de Misión {destino}\n",
    "    Tiempo total de vuelo {sum(minutos)} minutos\n",
    "    Combustible restante {sum(reservas_comb.values())}\n",
    "    \"\"\"\n",
    "print(informe_mision(\"Luna\", 10, 15, 51, interno=300000, externo=200000))\n",
    "\n",
    "def informe_mision(destino, *minutos, **reservas_comb):\n",
    "    informe = f\"\"\"\n",
    "    Destino de Misión {destino}\n",
    "    Tiempo total de vuelo {sum(minutos)} minutos\n",
    "    Combustible restante {sum(reservas_comb.values())}\n",
    "    \"\"\"\n",
    "    for tanque, galons in reservas_comb.items():\n",
    "        informe += f\"{tanque} tanque --> {galons} galones restantes\\n\"\n",
    "    return informe\n",
    "print(informe_mision(\"Luna\", 8, 11, 55, interno=300000, externo=200000))"
   ]
  }
 ],
 "metadata": {
  "interpreter": {
   "hash": "5e464044df699f84c82c6771a5363bd0887ed22cd104ff756e38bfb330f339ba"
  },
  "kernelspec": {
   "display_name": "Python 3.10.2 64-bit (windows store)",
   "language": "python",
   "name": "python3"
  },
  "language_info": {
   "codemirror_mode": {
    "name": "ipython",
    "version": 3
   },
   "file_extension": ".py",
   "mimetype": "text/x-python",
   "name": "python",
   "nbconvert_exporter": "python",
   "pygments_lexer": "ipython3",
   "version": "3.10.2"
  },
  "orig_nbformat": 4
 },
 "nbformat": 4,
 "nbformat_minor": 2
}
