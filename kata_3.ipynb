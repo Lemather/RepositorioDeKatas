{
 "cells": [
  {
   "cell_type": "code",
   "execution_count": 3,
   "metadata": {},
   "outputs": [
    {
     "name": "stdout",
     "output_type": "stream",
     "text": [
      "Un asteroide se acerca, y viaja a una velocidad de 34km/s.\n"
     ]
    }
   ],
   "source": [
    "vel_ast=34\n",
    "if vel_ast>25:\n",
    "    print(\"Un asteroide se acerca, y viaja a una velocidad de \" + str(vel_ast) + \" km/s.\")\n",
    "else:\n",
    "    print(\"Nada se acerca\")\n"
   ]
  },
  {
   "cell_type": "code",
   "execution_count": 7,
   "metadata": {},
   "outputs": [
    {
     "name": "stdout",
     "output_type": "stream",
     "text": [
      "Nada se acerca\n"
     ]
    }
   ],
   "source": [
    "vel_ast=19\n",
    "if vel_ast>20:\n",
    "    print(\"¡Hay uno que se dirige a la tierra ahora a una velocidad de \" + str(vel_ast) + \" km/s!\")\n",
    "elif vel_ast == 20:\n",
    "    print(\"Hay una luz en el cielo\")\n",
    "else:\n",
    "    print(\"Nada peligroso se acerca\")"
   ]
  },
  {
   "cell_type": "code",
   "execution_count": 9,
   "metadata": {},
   "outputs": [
    {
     "name": "stdout",
     "output_type": "stream",
     "text": [
      "Un asteroide muy peligroso se acerca a la Tierra\n"
     ]
    }
   ],
   "source": [
    "tamano_ast=27\n",
    "vel_ast=26\n",
    "if vel_ast > 25 and tamano_ast > 25:\n",
    "    print(\"Un asteroide muy peligroso se acerca a la Tierra\")\n",
    "elif vel_ast >= 20:\n",
    "    print(\"Hay una luz en el cielo\")\n",
    "elif tamano_ast < 25:\n",
    "    print(\"No es un asteroide peligroso\")\n",
    "else:\n",
    "    print(\"Nada peligroso se acerca\")"
   ]
  }
 ],
 "metadata": {
  "interpreter": {
   "hash": "5e464044df699f84c82c6771a5363bd0887ed22cd104ff756e38bfb330f339ba"
  },
  "kernelspec": {
   "display_name": "Python 3.10.2 64-bit (windows store)",
   "language": "python",
   "name": "python3"
  },
  "language_info": {
   "codemirror_mode": {
    "name": "ipython",
    "version": 3
   },
   "file_extension": ".py",
   "mimetype": "text/x-python",
   "name": "python",
   "nbconvert_exporter": "python",
   "pygments_lexer": "ipython3",
   "version": "3.10.2"
  },
  "orig_nbformat": 4
 },
 "nbformat": 4,
 "nbformat_minor": 2
}
