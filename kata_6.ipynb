{
 "cells": [
  {
   "cell_type": "code",
   "execution_count": 9,
   "metadata": {},
   "outputs": [
    {
     "name": "stdout",
     "output_type": "stream",
     "text": [
      "Numero de planetas actuales:  8\n",
      "Numero de planetas actuales:  9\n",
      "Último planeta:  Pluton\n"
     ]
    }
   ],
   "source": [
    "planets = ['Mercurio', 'Venus', 'Tierra', 'Marte', 'Jupiter', 'Saturno', 'Urano','Neptuno']\n",
    "num_planetas=len(planets)\n",
    "print('Numero de planetas actuales: ', str(num_planetas))\n",
    "planets.append('Pluton')\n",
    "num_planetas=len(planets)\n",
    "print('Numero de planetas actuales: ', str(num_planetas))\n",
    "print('Último planeta: ', planets[-1])"
   ]
  },
  {
   "cell_type": "code",
   "execution_count": 14,
   "metadata": {},
   "outputs": [
    {
     "name": "stdout",
     "output_type": "stream",
     "text": [
      "Planetas más cercanos al Sol que: Marte\n",
      "['Mercurio', 'Venus', 'Tierra']\n",
      "Planetas más cercanos al Sol que: Marte\n",
      "['Jupiter', 'Saturno', 'Urano', 'Neptuno']\n"
     ]
    }
   ],
   "source": [
    "planets = ['Mercurio', 'Venus', 'Tierra', 'Marte', 'Jupiter', 'Saturno', 'Urano', 'Neptuno']\n",
    "planeta_usr=input('Ingrese el nombre del planeta (La primera letra mayúscula)')\n",
    "index_planeta = planets.index(planeta_usr)\n",
    "print('Planetas más cercanos al Sol que: ' + planeta_usr)\n",
    "print(planets[0:index_planeta])\n",
    "print('Planetas más cercanos al Sol que: ' + planeta_usr)\n",
    "print(planets[index_planeta+1:8{}])"
   ]
  }
 ],
 "metadata": {
  "interpreter": {
   "hash": "5e464044df699f84c82c6771a5363bd0887ed22cd104ff756e38bfb330f339ba"
  },
  "kernelspec": {
   "display_name": "Python 3.10.2 64-bit (windows store)",
   "language": "python",
   "name": "python3"
  },
  "language_info": {
   "codemirror_mode": {
    "name": "ipython",
    "version": 3
   },
   "file_extension": ".py",
   "mimetype": "text/x-python",
   "name": "python",
   "nbconvert_exporter": "python",
   "pygments_lexer": "ipython3",
   "version": "3.10.2"
  },
  "orig_nbformat": 4
 },
 "nbformat": 4,
 "nbformat_minor": 2
}
